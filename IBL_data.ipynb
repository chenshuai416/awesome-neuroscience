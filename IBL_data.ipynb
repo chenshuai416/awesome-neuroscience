{
  "nbformat": 4,
  "nbformat_minor": 0,
  "metadata": {
    "kernelspec": {
      "display_name": "Python 3",
      "language": "python",
      "name": "python3"
    },
    "language_info": {
      "codemirror_mode": {
        "name": "ipython",
        "version": 3
      },
      "file_extension": ".py",
      "mimetype": "text/x-python",
      "name": "python",
      "nbconvert_exporter": "python",
      "pygments_lexer": "ipython3",
      "version": "3.7.3"
    },
    "colab": {
      "name": "「01-Explore IBL behavior data pipeline.ipynb」的副本",
      "provenance": [],
      "collapsed_sections": [
        "8iIVwjst7w5F",
        "LY33rZPP7w5G",
        "fPcVTLPu7w5G",
        "EjrptzSI7w5G",
        "Ydl7XwZV7w5H",
        "MbL6PVTa7w5I",
        "D7uAEnRw7w5I",
        "OywmuI-37w5J",
        "29dgvoNM7w5J",
        "-ljfE5V07w5J",
        "JPJUc50R7w5J",
        "c6FJWlka7w5K",
        "apynoop_7w5K",
        "cKBoQkI-7w5K",
        "1_fvYc-C7w5L",
        "uXnffuOB7w5P",
        "ZxL_vKNU7w5P",
        "x1FYA27L7w5P",
        "ZohYHg1u7w5R"
      ],
      "include_colab_link": true
    }
  },
  "cells": [
    {
      "cell_type": "markdown",
      "metadata": {
        "id": "view-in-github",
        "colab_type": "text"
      },
      "source": [
        "<a href=\"https://colab.research.google.com/github/chenshuai416/awesome-neuroscience/blob/master/IBL_data.ipynb\" target=\"_parent\"><img src=\"https://colab.research.google.com/assets/colab-badge.svg\" alt=\"Open In Colab\"/></a>"
      ]
    },
    {
      "cell_type": "markdown",
      "metadata": {
        "id": "W5CzIHVl7w43"
      },
      "source": [
        "## About this resource"
      ]
    },
    {
      "cell_type": "markdown",
      "metadata": {
        "id": "uuaUsalQ7w47"
      },
      "source": [
        "All of the tutorial notebooks as well as information about the dependent package (`nma-ibl`) can be found at [nma-ibl GitHub repository](https://github.com/int-brain-lab/nma-ibl)."
      ]
    },
    {
      "cell_type": "markdown",
      "metadata": {
        "id": "sqIfNVIW7w4-"
      },
      "source": [
        "## Setting up the environment (particularly for Colab users)"
      ]
    },
    {
      "cell_type": "markdown",
      "metadata": {
        "id": "Ci6D5XTH7w4_"
      },
      "source": [
        "Please execute the cells below the install the necessary dependencies and prepare the environment."
      ]
    },
    {
      "cell_type": "code",
      "metadata": {
        "id": "EjJPl8tN7w5A"
      },
      "source": [
        "# install IBL pipeline package to access and navigate the pipeline\n",
        "!pip install --quiet nma-ibl"
      ],
      "execution_count": null,
      "outputs": []
    },
    {
      "cell_type": "markdown",
      "metadata": {
        "id": "OuDBHqc_7w5B"
      },
      "source": [
        "# Explore IBL data Pipeline\n",
        "\n",
        "Welcome! This notebook gives you a brief introduction on the [International Brain Laboratory (IBL)](https://www.internationalbrainlab.com/) data pipeline, and provide quick guidance on how to explore the data pipeline utilizing [DataJoint](https://datajoint.io) -- the framework in which the pipeline has been developed."
      ]
    },
    {
      "cell_type": "markdown",
      "metadata": {
        "id": "Vv_4EKXI7w5B"
      },
      "source": [
        "## A little bit about DataJoint"
      ]
    },
    {
      "cell_type": "markdown",
      "metadata": {
        "id": "gqG_LuNX7w5C"
      },
      "source": [
        "[DataJoint](https://datajoint.io) is a general data pipeline framework offered in Python & MATLAB, that allows users to interact with a relational database (e.g. MySQL) intuitively and efficiently. Among many features, it offers a way to develop data pipelines with built-in integrity and consistency checks, and provides facility to define tables for computations with tools to quickly parallelize the processing over multiple computers! To learn more, please visit the website [DataJoint.io](https://datajoint.io). There you will find links to our interactive playgrounds and tutorials. \n",
        "\n",
        "[Vathes](https://vathes.com) and, in particular, [DataJoint Neuro](https://djneuro.io) is the team that develops and maintains DataJoint, and also help researchers and labs to adopt DataJoint and design pipeline."
      ]
    },
    {
      "cell_type": "markdown",
      "metadata": {
        "id": "QJ1giaHS7w5C"
      },
      "source": [
        "Using DataJoint framework, we have been processing data daily within IBL project, and provides a website that displays data and visualizations for the daily training results at https://data.internationalbrainlab.org."
      ]
    },
    {
      "cell_type": "markdown",
      "metadata": {
        "id": "EsyYY2Ht7w5D"
      },
      "source": [
        "## Navigating the IBL data pipeline"
      ]
    },
    {
      "cell_type": "markdown",
      "metadata": {
        "id": "act597QO7w5D"
      },
      "source": [
        "Here we will go through some useful tools to navigate through and get familiar with the data as foundin the pipeline.\n",
        "\n",
        "First thing first, let's **import DataJoint and the IBL pipeline package**."
      ]
    },
    {
      "cell_type": "code",
      "metadata": {
        "id": "NEyM0qtN7w5D"
      },
      "source": [
        "import datajoint as dj"
      ],
      "execution_count": null,
      "outputs": []
    },
    {
      "cell_type": "markdown",
      "metadata": {
        "id": "mXvrV3f27w5E"
      },
      "source": [
        "We'll then need to configure DataJoint to connect to the IBL public database hosted at datajoint-public.internationalbrainlab.org.\n",
        "Please be sure to fill in your credentials, replacing the `{USERNAME}` and `{PASSWORD}` with the actual username and password you received in the email after signing for IBL data access through the DataJoint.io webiste. If you are missing this information, please visit the [NMA-IBL GitHub repository](https://github.com/int-brain-lab/nma-ibl) to find out how to gain data pipeline access."
      ]
    },
    {
      "cell_type": "code",
      "metadata": {
        "id": "q6BS7XA_7w5E"
      },
      "source": [
        "dj.config['database.host'] = 'datajoint-public.internationalbrainlab.org'\n",
        "dj.config['database.user'] = '{USERNAME}'\n",
        "dj.config['database.password'] = '{PASSWORD}'"
      ],
      "execution_count": null,
      "outputs": []
    },
    {
      "cell_type": "markdown",
      "metadata": {
        "id": "HCA_W2p-7w5E"
      },
      "source": [
        "and now we'll import specific IBL data pipeline resources to navigate and access the data (this may take some time to run as it establishes access and fetch relevant resources from the database)."
      ]
    },
    {
      "cell_type": "code",
      "metadata": {
        "tags": [],
        "id": "DjAypFMw7w5E"
      },
      "source": [
        "from nma_ibl import reference, subject, action, acquisition, data, behavior, behavior_analyses"
      ],
      "execution_count": null,
      "outputs": []
    },
    {
      "cell_type": "markdown",
      "metadata": {
        "id": "ofyz_jJV7w5F"
      },
      "source": [
        "# 1. Browse schemas you have access to - `dj.list_schemas()`\n",
        "\n",
        "One or more related tables are grouped together into \"schemas\", providing for logical structure and organization of tables. Tables belonging to the schema are related to each other in intuitive fashion.\n",
        "\n",
        "You can list what schemas can be found in the IBL data pipeline as follows:"
      ]
    },
    {
      "cell_type": "code",
      "metadata": {
        "id": "MaQFnRAa7w5F"
      },
      "source": [
        "dj.list_schemas()"
      ],
      "execution_count": null,
      "outputs": []
    },
    {
      "cell_type": "markdown",
      "metadata": {
        "id": "8iIVwjst7w5F"
      },
      "source": [
        "## Major schemas:   \n",
        "\n",
        "Different schemas in the pipeline correspond to different grouping of related information, and typically associated with different *data sources*.\n",
        "\n",
        "1. Meta data stored and imported from [**Alyx**](https://alyx.readthedocs.io/en/latest/):\n",
        "\n",
        "    1) `ibl_reference`: general information about labs, users and projects  \n",
        "    2) `ibl_subject`: information about the experiment subject including housing and genetics  \n",
        "    3) `ibl_action`: information about performed surgeries\n",
        "    4) `ibl_acquisition`: information about experimental sessions\n",
        "    5) `ibl_data`: information pertaining to underlying data resource handling  \n",
        "    \n",
        "2. Behavioral data stored and imported from **FlatIron** data stores: `ibl_behavior` - trial information of the task.\n",
        "3. Computed alalysis results on the behavioral data: `ibl_analyses_behavior`    "
      ]
    },
    {
      "cell_type": "markdown",
      "metadata": {
        "id": "Nh2GMmIF7w5F"
      },
      "source": [
        "# 2. Browse tables in a schema - `dj.Diagram`\n",
        "\n",
        "`dj.Diagram` shows the tables and the dependencies among them. There are four types of DataJoint tables, referred to as different *tiers*, and different types of dependencies:"
      ]
    },
    {
      "cell_type": "markdown",
      "metadata": {
        "id": "LY33rZPP7w5G"
      },
      "source": [
        "### Table tiers  \n",
        "\n",
        "**Manual table**: (green box) Entries in a manual table are inserted \"manually\" or by recording systems. This is the kind of data that if lost, it basically cannot be recovered without proper backups present. A typical example of a manual table is the `subject` table that saves information about animal subjects.\n",
        "\n",
        "**Lookup table**: (gray box) Lookup tables hold general facts that rarely changes, such as a listing of possible genetic lines of an animals, or parameter information for a model.\n",
        "\n",
        "**Imported table**: (blue oval) Entries in an imported table are loaded from as external data source, such as a recording file produced by the recording system. DataJoint offers a clean way to trigger and process the \"ingestion\" of such external data into an imported table. If deleted, the entries may be recoverable if external data source still exists. Examples of imported tables are tables for experimental recordings (e.g. behavioral traces or electrophysiology signals).  \n",
        "\n",
        "**Computed table**: (red circle) Entries in an imported table are computed from data entirely present in the other tables within the pipeline. If deleted, the entries are typically easily recoverable through recomputation. Examples of computed tables are tables for behavioral analysis results.\n",
        "\n",
        "**Part table**: (plain text) Part tables are tables tightly link to its master table, signifying that entires within the part tables should not be deleted without a corresponding deletion of the master table. Data for part tables are usually imported through the master table's logic."
      ]
    },
    {
      "cell_type": "markdown",
      "metadata": {
        "id": "fPcVTLPu7w5G"
      },
      "source": [
        "### Dependencies\n",
        "\n",
        "**One-to-one primary**: (thick solid line) Tables with one-to-one primary dependency have the exact same definition of the primary key. Under this dependency, (up to) only one entry can exist in the child table for every entry in the parent table. \n",
        "\n",
        "**One-to-many primary**: (thin solid line) The child table inherits the primary key definition from its parent, but has additional field as part of the primary key as well. There may exist any number of child table entries corresponding to a single entry in the parent table.\n",
        "\n",
        "**Secondary foreign key reference**: (dashed line) A secondary attribute references to another table, but does not establish primary key dependencies. If any attributes are renamed during the dependency establishment, the link contains an orange dot."
      ]
    },
    {
      "cell_type": "markdown",
      "metadata": {
        "id": "MuDKK42W7w5G"
      },
      "source": [
        "Below we'll see how you can use `dj.Diagram` to view various parts of a schema, as well as to combine multilpe schemas into one diagram to capture dependencies acorss schemas."
      ]
    },
    {
      "cell_type": "markdown",
      "metadata": {
        "id": "EjrptzSI7w5G"
      },
      "source": [
        "### Show tables in the whole schema"
      ]
    },
    {
      "cell_type": "code",
      "metadata": {
        "id": "fCVJifDP7w5G"
      },
      "source": [
        "dj.Diagram(reference)"
      ],
      "execution_count": null,
      "outputs": []
    },
    {
      "cell_type": "markdown",
      "metadata": {
        "id": "Ydl7XwZV7w5H"
      },
      "source": [
        "### Show diagram combining aribtrary parts of the pipeline"
      ]
    },
    {
      "cell_type": "markdown",
      "metadata": {
        "id": "AgTIlKqi7w5H"
      },
      "source": [
        "A combination of aribtrary tables:"
      ]
    },
    {
      "cell_type": "code",
      "metadata": {
        "id": "g9OtDEjt7w5H"
      },
      "source": [
        "dj.Diagram(subject.Subject) + dj.Diagram(subject.Line) + dj.Diagram(subject.SubjectLab) + dj.Diagram(subject.SubjectProject)"
      ],
      "execution_count": null,
      "outputs": []
    },
    {
      "cell_type": "markdown",
      "metadata": {
        "id": "9O_Jke2X7w5H"
      },
      "source": [
        "The tables could be from different schemas:"
      ]
    },
    {
      "cell_type": "code",
      "metadata": {
        "id": "1TqpkHSI7w5H"
      },
      "source": [
        "dj.Diagram(subject.Subject) + dj.Diagram(acquisition.Session)"
      ],
      "execution_count": null,
      "outputs": []
    },
    {
      "cell_type": "markdown",
      "metadata": {
        "id": "i3r6L9MS7w5H"
      },
      "source": [
        "# 3. Getting the detailed definition of a table - `table.describe()`"
      ]
    },
    {
      "cell_type": "markdown",
      "metadata": {
        "id": "YyigWSdm7w5H"
      },
      "source": [
        "You can get \"definition\" of any table by calling `.describe()` method:"
      ]
    },
    {
      "cell_type": "code",
      "metadata": {
        "tags": [],
        "id": "CSVKKndf7w5H"
      },
      "source": [
        "subject.Subject.describe();"
      ],
      "execution_count": null,
      "outputs": []
    },
    {
      "cell_type": "markdown",
      "metadata": {
        "id": "eYfaWmxb7w5I"
      },
      "source": [
        "# 4. Browsing of data - queries"
      ]
    },
    {
      "cell_type": "markdown",
      "metadata": {
        "id": "rNAcuJ8v7w5I"
      },
      "source": [
        "We now show how you can navigate and access contents of the tables by writing `queries`. Below we provide a very brief overview of DataJoint queries with examples. For more thorough discussions and examples, please visit [DataJoint.io](https://datajoint.io) and [DataJoint Tutorials](https://tutorials.datajoint.io)."
      ]
    },
    {
      "cell_type": "markdown",
      "metadata": {
        "id": "XVKQRJNO7w5I"
      },
      "source": [
        " A simplest query is the table itself - which simply corresponds to all entries in the table."
      ]
    },
    {
      "cell_type": "code",
      "metadata": {
        "id": "0o2KyUC-7w5I"
      },
      "source": [
        "subject.Subject()"
      ],
      "execution_count": null,
      "outputs": []
    },
    {
      "cell_type": "markdown",
      "metadata": {
        "id": "e7uXubAJ7w5I"
      },
      "source": [
        "Notice that each query only gives you a quick preview of the data. We'll soon talk about how to \"fetch\" the data once you formulated a query capturing the data you want to grab."
      ]
    },
    {
      "cell_type": "markdown",
      "metadata": {
        "id": "MbL6PVTa7w5I"
      },
      "source": [
        "## Restriction  `&`: filtering data"
      ]
    },
    {
      "cell_type": "markdown",
      "metadata": {
        "id": "OhI75lFd7w5I"
      },
      "source": [
        "Restriction operation allows for narrow down the query to entries matcihng certain criteria."
      ]
    },
    {
      "cell_type": "markdown",
      "metadata": {
        "id": "D7uAEnRw7w5I"
      },
      "source": [
        "### Restriction: Query one subject"
      ]
    },
    {
      "cell_type": "code",
      "metadata": {
        "id": "gAzOMnry7w5I"
      },
      "source": [
        "# restrict by string\n",
        "subject.Subject & 'subject_nickname=\"IBL-T1\"'"
      ],
      "execution_count": null,
      "outputs": []
    },
    {
      "cell_type": "code",
      "metadata": {
        "id": "aO_PFyCz7w5I"
      },
      "source": [
        "# restrict by a dictionary.\n",
        "subject.Subject & {'subject_uuid': 'cff66dc1-765e-4e04-abef-92de05bf4f19'}"
      ],
      "execution_count": null,
      "outputs": []
    },
    {
      "cell_type": "code",
      "metadata": {
        "id": "XbsUO5dD7w5J"
      },
      "source": [
        "subject.Subject & {'sex': 'm'}"
      ],
      "execution_count": null,
      "outputs": []
    },
    {
      "cell_type": "markdown",
      "metadata": {
        "id": "OywmuI-37w5J"
      },
      "source": [
        "### Restriction: Query subjects born after a date"
      ]
    },
    {
      "cell_type": "code",
      "metadata": {
        "id": "OWBsK-Iy7w5J"
      },
      "source": [
        "subject.Subject & 'subject_birth_date > \"2019-01-01\"'"
      ],
      "execution_count": null,
      "outputs": []
    },
    {
      "cell_type": "markdown",
      "metadata": {
        "id": "29dgvoNM7w5J"
      },
      "source": [
        "### Restriction: subjects within a range of dates"
      ]
    },
    {
      "cell_type": "code",
      "metadata": {
        "id": "n3iw1ORc7w5J"
      },
      "source": [
        "subject.Subject & 'subject_birth_date between \"2019-01-01\" and \"2019-04-01\"'"
      ],
      "execution_count": null,
      "outputs": []
    },
    {
      "cell_type": "markdown",
      "metadata": {
        "id": "-ljfE5V07w5J"
      },
      "source": [
        "### Restriction: Query subjects on multiple attributes"
      ]
    },
    {
      "cell_type": "code",
      "metadata": {
        "id": "wN5fkWZp7w5J"
      },
      "source": [
        "subject.Subject & 'subject_birth_date > \"2019-01-01\"' & 'sex=\"M\"'"
      ],
      "execution_count": null,
      "outputs": []
    },
    {
      "cell_type": "markdown",
      "metadata": {
        "id": "JPJUc50R7w5J"
      },
      "source": [
        "### Restriction: Query dead subjects"
      ]
    },
    {
      "cell_type": "code",
      "metadata": {
        "id": "spOm1rno7w5K"
      },
      "source": [
        "# subjects that are dead\n",
        "subject.Subject & subject.Death"
      ],
      "execution_count": null,
      "outputs": []
    },
    {
      "cell_type": "code",
      "metadata": {
        "id": "3Q-GQ9G_7w5K"
      },
      "source": [
        "# subjects that are alive\n",
        "subject.Subject - subject.Death"
      ],
      "execution_count": null,
      "outputs": []
    },
    {
      "cell_type": "markdown",
      "metadata": {
        "id": "c6FJWlka7w5K"
      },
      "source": [
        "## Join `*`:  gather information from different tables"
      ]
    },
    {
      "cell_type": "markdown",
      "metadata": {
        "id": "h0xiO8XS7w5K"
      },
      "source": [
        "You can combine or \"join\" two tables with the `join` operator (`*`). The result represents *every valid combination* of entries across the two tables."
      ]
    },
    {
      "cell_type": "code",
      "metadata": {
        "id": "B2YD_HB_7w5K"
      },
      "source": [
        "subject.Subject * acquisition.Session"
      ],
      "execution_count": null,
      "outputs": []
    },
    {
      "cell_type": "markdown",
      "metadata": {
        "id": "apynoop_7w5K"
      },
      "source": [
        "## Projection `.proj()`: focus on attributes of interest"
      ]
    },
    {
      "cell_type": "markdown",
      "metadata": {
        "id": "E-gvjvpV7w5K"
      },
      "source": [
        "projection allows you to narrow down the table by dropping unnecessary table attributes (except for primary key attributes which cannot be dropped)."
      ]
    },
    {
      "cell_type": "code",
      "metadata": {
        "id": "XIcb-AQP7w5K"
      },
      "source": [
        "# drop all but the primary key attributes\n",
        "subject.Subject.proj()"
      ],
      "execution_count": null,
      "outputs": []
    },
    {
      "cell_type": "code",
      "metadata": {
        "id": "U5kLxZLo7w5K"
      },
      "source": [
        "# keep `subject_birth_date` and `sex`\n",
        "subject.Subject.proj('subject_birth_date', 'sex')"
      ],
      "execution_count": null,
      "outputs": []
    },
    {
      "cell_type": "markdown",
      "metadata": {
        "id": "cKBoQkI-7w5K"
      },
      "source": [
        "### rename attribute with ***proj()***"
      ]
    },
    {
      "cell_type": "markdown",
      "metadata": {
        "id": "D3qLErdY7w5L"
      },
      "source": [
        "You could also use proj to rename attributes."
      ]
    },
    {
      "cell_type": "code",
      "metadata": {
        "id": "ccG9WnQA7w5L"
      },
      "source": [
        "subject.Subject.proj('sex', dob='subject_birth_date')"
      ],
      "execution_count": null,
      "outputs": []
    },
    {
      "cell_type": "markdown",
      "metadata": {
        "id": "1_fvYc-C7w5L"
      },
      "source": [
        "### perform simple computations with ***proj***"
      ]
    },
    {
      "cell_type": "markdown",
      "metadata": {
        "id": "SqM8LZ0w7w5L"
      },
      "source": [
        "projection also provides for capacity to compute a new field on the fly based on attributes present in the query."
      ]
    },
    {
      "cell_type": "markdown",
      "metadata": {
        "id": "T-gcws6b7w5L"
      },
      "source": [
        "**Example 1: Get date of a session:**"
      ]
    },
    {
      "cell_type": "code",
      "metadata": {
        "id": "7dx5xweq7w5O"
      },
      "source": [
        "sessions_with_date = acquisition.Session.proj(session_date='DATE(session_start_time)')"
      ],
      "execution_count": null,
      "outputs": []
    },
    {
      "cell_type": "code",
      "metadata": {
        "id": "GKDwQpqB7w5O"
      },
      "source": [
        "sessions_with_date"
      ],
      "execution_count": null,
      "outputs": []
    },
    {
      "cell_type": "markdown",
      "metadata": {
        "id": "W-mBx_G87w5O"
      },
      "source": [
        "**Example 2: Age of the animal when performing each session?**"
      ]
    },
    {
      "cell_type": "code",
      "metadata": {
        "id": "ht9Hi3u87w5O"
      },
      "source": [
        "# First get the date of birth and the session date into the same query\n",
        "q = subject.Subject * acquisition.Session"
      ],
      "execution_count": null,
      "outputs": []
    },
    {
      "cell_type": "code",
      "metadata": {
        "id": "1zvcCyWD7w5O"
      },
      "source": [
        "q"
      ],
      "execution_count": null,
      "outputs": []
    },
    {
      "cell_type": "code",
      "metadata": {
        "id": "LMksq4A-7w5P"
      },
      "source": [
        "# Then compute the age\n",
        "q_with_age = q.proj(age='DATEDIFF(session_start_time, subject_birth_date)')\n",
        "q_with_age"
      ],
      "execution_count": null,
      "outputs": []
    },
    {
      "cell_type": "markdown",
      "metadata": {
        "id": "uXnffuOB7w5P"
      },
      "source": [
        "### Aggregation `.aggr()`: simple computation of one table against another table"
      ]
    },
    {
      "cell_type": "markdown",
      "metadata": {
        "id": "iQ7_BNic7w5P"
      },
      "source": [
        "Aggreation operation allows you to group one or more entries based on shared attributes, and perform computations within each grouping."
      ]
    },
    {
      "cell_type": "markdown",
      "metadata": {
        "id": "sJur2gCy7w5P"
      },
      "source": [
        "Example: how many sessions does each subject do so far?"
      ]
    },
    {
      "cell_type": "code",
      "metadata": {
        "id": "9FZTGzKV7w5P"
      },
      "source": [
        "subject.Subject.aggr(acquisition.Session, 'subject_nickname', n='count(*)')"
      ],
      "execution_count": null,
      "outputs": []
    },
    {
      "cell_type": "markdown",
      "metadata": {
        "id": "ZxL_vKNU7w5P"
      },
      "source": [
        "## Combining queries"
      ]
    },
    {
      "cell_type": "markdown",
      "metadata": {
        "id": "TKLUJlBS7w5P"
      },
      "source": [
        "As you saw, a result of a query can be used in the next query with no restriction. This makes it possible to build a fairly complex query by combining multiple steps of simple queries!"
      ]
    },
    {
      "cell_type": "markdown",
      "metadata": {
        "id": "na5DrJyT7w5P"
      },
      "source": [
        "# 5. Fetching data"
      ]
    },
    {
      "cell_type": "markdown",
      "metadata": {
        "id": "aRu5qts57w5P"
      },
      "source": [
        "Now you have seen how you can manipuate queries to get exactly what you are interested, you can \"fetch\" the data to pull them into your working environment and start performing computaitons on the fetched data."
      ]
    },
    {
      "cell_type": "markdown",
      "metadata": {
        "id": "x1FYA27L7w5P"
      },
      "source": [
        "## Fetch all fields: `fetch()`"
      ]
    },
    {
      "cell_type": "markdown",
      "metadata": {
        "id": "nlNwx8rj7w5Q"
      },
      "source": [
        "You can fetch everything by calling `.fetch()` on the query. This returns a NumPy structured array by default."
      ]
    },
    {
      "cell_type": "code",
      "metadata": {
        "id": "kFP00fQi7w5Q"
      },
      "source": [
        "# fetch all data from a table\n",
        "subjs = subject.Subject.fetch()\n",
        "subjs"
      ],
      "execution_count": null,
      "outputs": []
    },
    {
      "cell_type": "code",
      "metadata": {
        "id": "B3n1wKSC7w5Q"
      },
      "source": [
        "subjs['subject_uuid']"
      ],
      "execution_count": null,
      "outputs": []
    },
    {
      "cell_type": "code",
      "metadata": {
        "id": "SNsCZCXa7w5Q"
      },
      "source": [
        "subjs['subject_birth_date']"
      ],
      "execution_count": null,
      "outputs": []
    },
    {
      "cell_type": "markdown",
      "metadata": {
        "id": "lglIvtB_7w5Q"
      },
      "source": [
        "Alternatively, you can fetch them as a list of dictionaries."
      ]
    },
    {
      "cell_type": "code",
      "metadata": {
        "id": "COdfVTI47w5Q"
      },
      "source": [
        "# fetch as a list of dictionaries\n",
        "subjs_dict = subject.Subject.fetch(as_dict=True)\n",
        "subjs_dict"
      ],
      "execution_count": null,
      "outputs": []
    },
    {
      "cell_type": "markdown",
      "metadata": {
        "id": "I6noDh4W7w5Q"
      },
      "source": [
        "...or as [pandas](https://pandas.pydata.org/) dataframe (`pandas` library has to be installed)"
      ]
    },
    {
      "cell_type": "code",
      "metadata": {
        "id": "L50Qesc77w5Q"
      },
      "source": [
        "# fetch as pandas dataframe\n",
        "subjs_df = subject.Subject.fetch(format='frame')\n",
        "subjs_df"
      ],
      "execution_count": null,
      "outputs": []
    },
    {
      "cell_type": "markdown",
      "metadata": {
        "id": "npUUcerc7w5Q"
      },
      "source": [
        "You can use special keyword `'KEY'` to just fetch the primary keys are list of dictionaries:"
      ]
    },
    {
      "cell_type": "code",
      "metadata": {
        "id": "uulhFNX07w5Q"
      },
      "source": [
        "# fetch the primary key\n",
        "pk = subject.Subject.fetch('KEY')\n",
        "pk"
      ],
      "execution_count": null,
      "outputs": []
    },
    {
      "cell_type": "markdown",
      "metadata": {
        "id": "01nlXcXb7w5Q"
      },
      "source": [
        "Also you can specify exact attributes you would like to retrieve and they will be returned as their own (index aligned) lists:"
      ]
    },
    {
      "cell_type": "code",
      "metadata": {
        "id": "M6UyhQgW7w5Q"
      },
      "source": [
        "# fetch specific attributes\n",
        "dob, sex = subject.Subject.fetch('subject_birth_date', 'sex')"
      ],
      "execution_count": null,
      "outputs": []
    },
    {
      "cell_type": "code",
      "metadata": {
        "id": "pEjrVbfv7w5Q"
      },
      "source": [
        "dob[:10]"
      ],
      "execution_count": null,
      "outputs": []
    },
    {
      "cell_type": "code",
      "metadata": {
        "id": "Y8a1EAeO7w5R"
      },
      "source": [
        "sex[:10]"
      ],
      "execution_count": null,
      "outputs": []
    },
    {
      "cell_type": "markdown",
      "metadata": {
        "id": "wbbWvEnP7w5R"
      },
      "source": [
        "If you specify `as_dict=True` while specifying specific attributes, you can get back a list of dictionaries with only those attributes:"
      ]
    },
    {
      "cell_type": "code",
      "metadata": {
        "id": "k-Wnv8GT7w5R"
      },
      "source": [
        "info = subject.Subject.fetch('subject_birth_date', 'sex', as_dict=True)\n",
        "info"
      ],
      "execution_count": null,
      "outputs": []
    },
    {
      "cell_type": "markdown",
      "metadata": {
        "id": "ZohYHg1u7w5R"
      },
      "source": [
        "## fetch data only from one entry: `fetch1`"
      ]
    },
    {
      "cell_type": "markdown",
      "metadata": {
        "id": "2hgKAt6U7w5R"
      },
      "source": [
        "Sometimes you know that there is only exactly one entry in your query. In that case, rather than getting back a list with one entry, you can already expand the listing by using `fetch1` instead"
      ]
    },
    {
      "cell_type": "code",
      "metadata": {
        "id": "gBdlQ3MU7w5R"
      },
      "source": [
        "CSHL_015 = (subject.Subject & {'subject_nickname': 'CSHL_015'}).fetch1('KEY')  # \"fetch1()\" because we know there's only one"
      ],
      "execution_count": null,
      "outputs": []
    },
    {
      "cell_type": "code",
      "metadata": {
        "id": "4fCQMij17w5R"
      },
      "source": [
        "CSHL_015"
      ],
      "execution_count": null,
      "outputs": []
    },
    {
      "cell_type": "code",
      "metadata": {
        "id": "SJRPQ08U7w5R"
      },
      "source": [
        "IBL_T1 = (subject.Subject & {'subject_nickname': 'IBL-T1'}).fetch1()"
      ],
      "execution_count": null,
      "outputs": []
    },
    {
      "cell_type": "code",
      "metadata": {
        "id": "QCljbop17w5R"
      },
      "source": [
        "IBL_T1"
      ],
      "execution_count": null,
      "outputs": []
    },
    {
      "cell_type": "markdown",
      "metadata": {
        "id": "OlOWAq9k7w5R"
      },
      "source": [
        "# 5. Behavioral trial information"
      ]
    },
    {
      "cell_type": "markdown",
      "metadata": {
        "id": "KmVgxAwm7w5R"
      },
      "source": [
        "Among the most interesting and important information in the IBL public data pipeline as it stands is the behavioral trials for the 2 alternative force choice (2AFC) task.\n",
        "\n",
        "Let's go into a bit more details on the relevant tables housing the behvaioral information -- `behaivor` schema."
      ]
    },
    {
      "cell_type": "markdown",
      "metadata": {
        "id": "9kePPq4F7w5S"
      },
      "source": [
        "Among the most important table in this schema is `behavior.TrialSet`"
      ]
    },
    {
      "cell_type": "code",
      "metadata": {
        "id": "I3Hq8aUm7w5S"
      },
      "source": [
        "behavior.TrialSet()"
      ],
      "execution_count": null,
      "outputs": []
    },
    {
      "cell_type": "markdown",
      "metadata": {
        "id": "Mxl2QSY47w5S"
      },
      "source": [
        "The `TrialSet` table stores some summary statistics for each session of the behavioral experiment. To also show information about the subject, we could join the table with `subject` related tables."
      ]
    },
    {
      "cell_type": "code",
      "metadata": {
        "id": "KpB4Zu177w5S"
      },
      "source": [
        "behavior.TrialSet * subject.Subject * subject.SubjectLab * subject.SubjectProject"
      ],
      "execution_count": null,
      "outputs": []
    },
    {
      "cell_type": "markdown",
      "metadata": {
        "id": "6Yyl26Sj7w5S"
      },
      "source": [
        "We could restrict to one session, for example to a behavior session that started exactly on `2019-09-16 13:44:46` by:"
      ]
    },
    {
      "cell_type": "code",
      "metadata": {
        "id": "BTUfofBp7w5S"
      },
      "source": [
        "import datetime\n",
        "q = behavior.TrialSet * subject.Subject * subject.SubjectLab * subject.SubjectProject & \\\n",
        "    'subject_nickname=\"CSHL_015\"' & {'session_start_time': datetime.datetime(2019, 9, 16, 13, 44, 46)}\n",
        "q"
      ],
      "execution_count": null,
      "outputs": []
    },
    {
      "cell_type": "markdown",
      "metadata": {
        "id": "ggifm8mT7w5S"
      },
      "source": [
        "alternatively you could use string for date value"
      ]
    },
    {
      "cell_type": "code",
      "metadata": {
        "id": "pR1DFAXG7w5S"
      },
      "source": [
        "q = behavior.TrialSet * subject.Subject * subject.SubjectLab * subject.SubjectProject & \\\n",
        "    'subject_nickname=\"CSHL_015\"' & {'session_start_time': \"2019-9-16 13:44:46\"}\n",
        "q"
      ],
      "execution_count": null,
      "outputs": []
    },
    {
      "cell_type": "markdown",
      "metadata": {
        "id": "psTnDeTk7w5S"
      },
      "source": [
        "The trial-by-trial information are shown in a **part table**  of the `behavior.TrialSet`: `behavior.TrialSet.Trial`"
      ]
    },
    {
      "cell_type": "code",
      "metadata": {
        "id": "7hyv-Htm7w5S"
      },
      "source": [
        "behavior.TrialSet.Trial()"
      ],
      "execution_count": null,
      "outputs": []
    },
    {
      "cell_type": "markdown",
      "metadata": {
        "id": "gGrFkT_r7w5S"
      },
      "source": [
        "We could check a brief description for each of the column with `describe()`"
      ]
    },
    {
      "cell_type": "code",
      "metadata": {
        "tags": [],
        "id": "M0LnzXwK7w5T"
      },
      "source": [
        "behavior.TrialSet.Trial.describe();"
      ],
      "execution_count": null,
      "outputs": []
    },
    {
      "cell_type": "markdown",
      "metadata": {
        "id": "NeywORvB7w5T"
      },
      "source": [
        "To fetch some part of data, we could do use the fetch method after we formulate query to narrow down our results:  "
      ]
    },
    {
      "cell_type": "markdown",
      "metadata": {
        "id": "9PwVPACB7w5T"
      },
      "source": [
        "For example, you might like to see the stimulus contrasts, and the animal choices for the one session that we already queried and saved as `q`.\n",
        "To do so, we could do:"
      ]
    },
    {
      "cell_type": "code",
      "metadata": {
        "id": "m9bWps2Q7w5T"
      },
      "source": [
        "# we could fetch the fields as a list of dictionary, only for the trials with a choice\n",
        "# q corresponds to a single session we narrowed down from a query above\n",
        "data = (behavior.TrialSet.Trial & q & 'trial_response_choice !=\"No Go\"').fetch(\n",
        "    'trial_stim_contrast_left', 'trial_stim_contrast_right', 'trial_response_choice', as_dict=True)"
      ],
      "execution_count": null,
      "outputs": []
    },
    {
      "cell_type": "code",
      "metadata": {
        "id": "LJjlFMRK7w5T"
      },
      "source": [
        "# We could then convert the data to a dataframe for further analyses\n",
        "import pandas as pd\n",
        "df = pd.DataFrame(data)\n",
        "df"
      ],
      "execution_count": null,
      "outputs": []
    },
    {
      "cell_type": "markdown",
      "metadata": {
        "id": "7Bty2WnD7w5T"
      },
      "source": [
        "Then we can explore and perform computations on the fetched data."
      ]
    },
    {
      "cell_type": "markdown",
      "metadata": {
        "id": "02Jut2g47w5T"
      },
      "source": [
        "As an example, let us first compute the signed contrast, so that the presence of contrasts on the right are indicated by positive value and negative for left."
      ]
    },
    {
      "cell_type": "code",
      "metadata": {
        "id": "k8YpkUoE7w5T"
      },
      "source": [
        "df['signed_contrast'] = df['trial_stim_contrast_right'] - df['trial_stim_contrast_left']"
      ],
      "execution_count": null,
      "outputs": []
    },
    {
      "cell_type": "code",
      "metadata": {
        "id": "MNRKmKJb7w5T"
      },
      "source": [
        "df['report_right'] = df['trial_response_choice'] == \"CCW\""
      ],
      "execution_count": null,
      "outputs": []
    },
    {
      "cell_type": "code",
      "metadata": {
        "id": "JA2NLcBM7w5T"
      },
      "source": [
        "report_right = df.groupby(['signed_contrast'], as_index=False).mean()\n",
        "report_right"
      ],
      "execution_count": null,
      "outputs": []
    },
    {
      "cell_type": "markdown",
      "metadata": {
        "id": "2dghBeC87w5T"
      },
      "source": [
        "Now, let's plot the psychometric curve: prob_report_right vs signed_contrast:"
      ]
    },
    {
      "cell_type": "code",
      "metadata": {
        "id": "cSzyR4YW7w5T"
      },
      "source": [
        "import matplotlib.pyplot as plt\n",
        "plt.plot(report_right['signed_contrast'], report_right['report_right'], 'o')\n",
        "plt.xlabel('Signed Contrast')\n",
        "plt.ylabel('Probability reporting right')"
      ],
      "execution_count": null,
      "outputs": []
    },
    {
      "cell_type": "markdown",
      "metadata": {
        "id": "Tu2GIAMh7w5U"
      },
      "source": [
        "Some basic analyses such as computations of psychometric curves have been pre-processed and saved in one of the downstream tables, such as `behavior_analyses.PsychResults`. \n",
        "\n",
        "In the next notebook, we will step through how to fetch data from the computational analysis result tables present in the data pipeline to recreate the psychometric curves for any particular session."
      ]
    },
    {
      "cell_type": "markdown",
      "metadata": {
        "id": "_kKKirET7w5U"
      },
      "source": [
        "You can find additional learning resources for DataJoint at [DataJoint.io](https://datajoint.io), and you can also sign up to our DataJoint Slack group (link on the website) to join the vibrant DataJoint user community!"
      ]
    }
  ]
}